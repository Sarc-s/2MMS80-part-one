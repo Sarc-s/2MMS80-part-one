{
 "cells": [
  {
   "cell_type": "code",
   "execution_count": 226,
   "metadata": {},
   "outputs": [],
   "source": [
    "import numpy as np\n",
    "import matplotlib.pyplot as plt\n",
    "plt.rcParams.update({'font.size': 12})\n",
    "from collections import Counter\n",
    "import pickle\n",
    "import numpy_groupies as npg"
   ]
  },
  {
   "cell_type": "code",
   "execution_count": 190,
   "metadata": {},
   "outputs": [],
   "source": [
    "def get_images(name, size):\n",
    "    images = np.empty((size, 784), dtype=np.int16)\n",
    "    numbers = np.empty(size, dtype=np.int32)\n",
    "\n",
    "    with open(name, 'rt') as file:\n",
    "        for i in range(size):\n",
    "            row = file.readline().split(',')\n",
    "\n",
    "            numbers[i] = row[0]\n",
    "            images[i] = row[1:]\n",
    "\n",
    "\n",
    "    return numbers, images\n",
    "\n",
    "def show_image(image):\n",
    "    plt.imshow(image.reshape((28,28)), cmap='gray')\n",
    "    plt.show()\n",
    "\n",
    "def k_nearest_neighbour_old(image, numbers, images, k):\n",
    "    sorted_indices = np.argsort(np.linalg.norm(images-image, axis=-1))\n",
    "    return Counter(numbers[i] for i in sorted_indices[:k]).most_common(1)[0][0]\n",
    "\n",
    "# Find k nearest neighbours\n",
    "#   Take first k values and sort\n",
    "#   Go over the rest and insert if its smaller than the maximum value\n",
    "# Generate all smaller results\n",
    "\n",
    "# def k_nearest_neighbours(train_images, test_image, k, dist_func):\n",
    "#     '''Returns nearest k indices in order of closest'''\n",
    "#     return np.argpartition(dist_func(train_images, test_image), range(1,k+1), axis=-1)[:k]\n",
    "\n",
    "# neighbour_func = lambda x: k_nearest_neighbours(images_train_small, x, k_range, euclid_dist)\n",
    "# arg_max_func = lambda k: np.argmax(npg.aggregate(numbers_train_small[list(map(neighbour_func, images_test_small[:2]))][:k], 1))\n",
    "# result = list(map(arg_max_func, range(1,k_range+1)))\n",
    "\n",
    "def euclid_dist(train_images, test_image):\n",
    "    return np.linalg.norm(train_images-test_image, axis=-1)\n",
    "\n"
   ]
  },
  {
   "cell_type": "code",
   "execution_count": 126,
   "metadata": {},
   "outputs": [],
   "source": [
    "# MNIST_train 60000 images\n",
    "# MNIST_test 10000 images\n",
    "# MNIST_train_small 3000 images\n",
    "# MNIST_test_small 1000 images\n",
    "\n",
    "# 11 seconds for 60000 images\n",
    "# images = get_images('data/MNIST_train.csv', 60000)\n",
    "numbers_train_small, images_train_small = get_images('data/MNIST_train_small.csv', 3000)\n",
    "numbers_test_small, images_test_small = get_images('data/MNIST_test_small.csv', 1000)"
   ]
  },
  {
   "cell_type": "code",
   "execution_count": 127,
   "metadata": {},
   "outputs": [
    {
     "data": {
      "image/png": "[encoded data removed]",
      "text/plain": [
       "<Figure size 432x288 with 1 Axes>"
      ]
     },
     "metadata": {
      "needs_background": "light"
     },
     "output_type": "display_data"
    }
   ],
   "source": [
    "show_image(images_test_small[2])"
   ]
  },
  {
   "cell_type": "code",
   "execution_count": 185,
   "metadata": {},
   "outputs": [],
   "source": [
    "def k_nearest_neighbours(train_images, train_numbers, test_image, k, dist_func):\n",
    "    norm_list = dist_func(train_images, test_image)\n",
    "    nearest_idx = np.empty(k, dtype=np.int32)\n",
    "    common_nr = np.empty(k, dtype=np.int8)\n",
    "    for i in range(k):\n",
    "        min_idx = np.argmin(norm_list)\n",
    "        norm_list[min_idx] = np.inf\n",
    "        nearest_idx[i] = min_idx\n",
    "\n",
    "        common_nr[i] = Counter(train_numbers[nearest_idx[:i+1]]).most_common(1)[0][0]\n",
    "\n",
    "    return common_nr"
   ]
  },
  {
   "cell_type": "code",
   "execution_count": 207,
   "metadata": {},
   "outputs": [],
   "source": [
    "k = 20\n",
    "neighbour_func = lambda img: k_nearest_neighbours(images_train_small, numbers_train_small, img, k, euclid_dist)"
   ]
  },
  {
   "cell_type": "code",
   "execution_count": 236,
   "metadata": {},
   "outputs": [],
   "source": [
    "# Train data compared with test data\n",
    "test_common_nrs = np.array(list(map(neighbour_func, images_test_small))).transpose()"
   ]
  },
  {
   "cell_type": "code",
   "execution_count": 238,
   "metadata": {},
   "outputs": [
    {
     "name": "stdout",
     "output_type": "stream",
     "text": [
      "[0.085 0.085 0.077 0.076 0.072 0.076 0.08  0.081 0.083 0.09  0.095 0.097\n",
      " 0.098 0.103 0.103 0.105 0.104 0.111 0.112 0.113]\n"
     ]
    }
   ],
   "source": [
    "not_eq = lambda x,y: x != y\n",
    "\n",
    "# Emprical risk on the test set\n",
    "test_small_risk = np.sum(not_eq(test_common_nrs, numbers_test_small), axis=1)/numbers_test_small.shape[0]\n",
    "print(test_small_risk)"
   ]
  },
  {
   "cell_type": "code",
   "execution_count": 218,
   "metadata": {},
   "outputs": [],
   "source": [
    "# Train data compared with train data\n",
    "train_common_nrs = np.array(list(map(neighbour_func, images_train_small))).transpose()"
   ]
  },
  {
   "cell_type": "code",
   "execution_count": 237,
   "metadata": {},
   "outputs": [
    {
     "name": "stdout",
     "output_type": "stream",
     "text": [
      "[0.         0.         0.02733333 0.027      0.04066667 0.04266667\n",
      " 0.05133333 0.05333333 0.06233333 0.06266667 0.07066667 0.07033333\n",
      " 0.07533333 0.07333333 0.08033333 0.08066667 0.08433333 0.083\n",
      " 0.08466667 0.08566667]\n"
     ]
    }
   ],
   "source": [
    "# Emprical risk on the train set\n",
    "train_small_risk = np.sum(not_eq(train_common_nrs, numbers_train_small), axis=1)/numbers_train_small.shape[0]\n",
    "print(train_small_risk)"
   ]
  },
  {
   "cell_type": "code",
   "execution_count": 234,
   "metadata": {},
   "outputs": [
    {
     "data": {
      "image/png": "[encoded data removed]",
      "text/plain": [
       "<Figure size 576x288 with 1 Axes>"
      ]
     },
     "metadata": {
      "needs_background": "light"
     },
     "output_type": "display_data"
    }
   ],
   "source": [
    "fig, ax = plt.subplots(figsize=(8, 4))\n",
    "ax.scatter(range(1,k+1), test_small_risk, label='Test data')\n",
    "ax.scatter(range(1,k+1), train_small_risk, label='Train data')\n",
    "ax.legend(loc=4)\n",
    "ax.set_xlabel(\"k\")\n",
    "ax.set_ylabel(\"Empirical risk\")\n",
    "\n",
    "# plt.savefig(\"ex_a_risk.pdf\")\n",
    "plt.show()\n",
    "\n",
    "# Best k for this model is five!"
   ]
  },
  {
   "cell_type": "code",
   "execution_count": 245,
   "metadata": {},
   "outputs": [
    {
     "data": {
      "text/plain": [
       "'0 & 1 & 2 & 3 & 4 & 5 & 6 & 7 & 8 & 9 & 10 & 11 & 12 & 13 & 14 & 15 & 16 & 17 & 18 & 19'"
      ]
     },
     "execution_count": 245,
     "metadata": {},
     "output_type": "execute_result"
    }
   ],
   "source": [
    "\" & \".join(list(str(i) for i in range(20)))"
   ]
  },
  {
   "attachments": {},
   "cell_type": "markdown",
   "metadata": {},
   "source": [
    "### Function speed tests"
   ]
  },
  {
   "cell_type": "code",
   "execution_count": 181,
   "metadata": {},
   "outputs": [],
   "source": [
    "norm_list = np.linalg.norm(images_train_small-images_test_small[0], axis=-1)"
   ]
  },
  {
   "cell_type": "code",
   "execution_count": 97,
   "metadata": {},
   "outputs": [
    {
     "name": "stdout",
     "output_type": "stream",
     "text": [
      "31.3 ms ± 4.86 ms per loop (mean ± std. dev. of 7 runs, 10 loops each)\n"
     ]
    }
   ],
   "source": [
    "%%timeit\n",
    "for i in range(20):\n",
    "    min_idx = np.argmin(norm_list)\n",
    "    norm_list[min_idx] = np.inf\n",
    "    nearest_arr[i] = min_idx"
   ]
  },
  {
   "cell_type": "code",
   "execution_count": 73,
   "metadata": {},
   "outputs": [
    {
     "name": "stdout",
     "output_type": "stream",
     "text": [
      "148 µs ± 944 ns per loop (mean ± std. dev. of 7 runs, 10000 loops each)\n",
      "100 µs ± 639 ns per loop (mean ± std. dev. of 7 runs, 10000 loops each)\n",
      "3.21 µs ± 10.3 ns per loop (mean ± std. dev. of 7 runs, 100000 loops each)\n"
     ]
    }
   ],
   "source": [
    "%timeit np.argsort(norm_list)[:20]\n",
    "%timeit np.argpartition(norm_list, range(1,21), axis=-1)[:20]"
   ]
  },
  {
   "cell_type": "code",
   "execution_count": 15,
   "metadata": {},
   "outputs": [],
   "source": [
    "f = lambda x: x ** 2\n",
    "uf = np.frompyfunc(f, 1, 1)\n",
    "g = lambda x, y: x + y\n",
    "x = np.arange(1000)\n",
    "y = np.arange(1000)\n",
    "vf = np.vectorize(f)\n",
    "\n",
    "# f(x) 1.48 mirco s\n",
    "# g(x,y) 1.33 micro s\n",
    "# uf(x) 284 micro s\n",
    "# vf(x) 313 micro s\n",
    "# np.fromiter((f(i) for i in x), x.dtype, count=len(x)) 402 micro s\n",
    "# np.array(list(map(f, x))) 442 micro s\n",
    "# np.array([f(i) for i in x], dtype=x.dtype) 487 micro s\n",
    "# normal for loop 511 micro s\n",
    "# arr = np.empty(x.shape)\n",
    "# for i in range(x.size):\n",
    "#   arr[i] = f(x[i])"
   ]
  },
  {
   "cell_type": "code",
   "execution_count": 156,
   "metadata": {},
   "outputs": [
    {
     "name": "stdout",
     "output_type": "stream",
     "text": [
      "47 µs ± 2.75 µs per loop (mean ± std. dev. of 7 runs, 10000 loops each)\n"
     ]
    }
   ],
   "source": [
    "%timeit np.argmax(npg.aggregate(numbers_train_small[nearest_arr], 1))"
   ]
  },
  {
   "cell_type": "code",
   "execution_count": 157,
   "metadata": {},
   "outputs": [
    {
     "name": "stdout",
     "output_type": "stream",
     "text": [
      "7.74 µs ± 186 ns per loop (mean ± std. dev. of 7 runs, 100000 loops each)\n"
     ]
    }
   ],
   "source": [
    "%timeit Counter(numbers_train_small[nearest_arr]).most_common(1)[0][0]"
   ]
  }
 ],
 "metadata": {
  "kernelspec": {
   "display_name": "base",
   "language": "python",
   "name": "python3"
  },
  "language_info": {
   "codemirror_mode": {
    "name": "ipython",
    "version": 3
   },
   "file_extension": ".py",
   "mimetype": "text/x-python",
   "name": "python",
   "nbconvert_exporter": "python",
   "pygments_lexer": "ipython3",
   "version": "3.8.5"
  },
  "orig_nbformat": 4,
  "vscode": {
   "interpreter": {
    "hash": "ad2bdc8ecc057115af97d19610ffacc2b4e99fae6737bb82f5d7fb13d2f2c186"
   }
  }
 },
 "nbformat": 4,
 "nbformat_minor": 2
}
