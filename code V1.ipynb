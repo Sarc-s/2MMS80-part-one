{
 "cells": [
  {
   "cell_type": "code",
   "execution_count": 1,
   "metadata": {},
   "outputs": [],
   "source": [
    "import numpy as np\n",
    "import matplotlib.pyplot as plt\n",
    "plt.rcParams.update({'font.size': 12})\n",
    "from collections import Counter\n",
    "# import pickle\n",
    "# import numpy_groupies as npg\n",
    "# from scipy.spatial.distance import minkowski\n",
    "from time import perf_counter"
   ]
  },
  {
   "attachments": {},
   "cell_type": "markdown",
   "metadata": {},
   "source": [
    "### Functions"
   ]
  },
  {
   "cell_type": "code",
   "execution_count": 2,
   "metadata": {},
   "outputs": [],
   "source": [
    "def get_images(name, size):\n",
    "    images = np.empty((size, 784), dtype=np.int16)\n",
    "    numbers = np.empty(size, dtype=np.int32)\n",
    "\n",
    "    with open(name, 'rt') as file:\n",
    "        for i in range(size):\n",
    "            row = file.readline().split(',')\n",
    "\n",
    "            numbers[i] = row[0]\n",
    "            images[i] = row[1:]\n",
    "\n",
    "    return numbers, images\n",
    "\n",
    "def show_image(image):\n",
    "    plt.imshow(image.reshape((28,28)), cmap='gray')\n",
    "    plt.show()\n",
    "\n",
    "def k_nearest_neighbour_old(image, numbers, images, k):\n",
    "    sorted_indices = np.argsort(np.linalg.norm(images-image, axis=-1))\n",
    "    return Counter(numbers[i] for i in sorted_indices[:k]).most_common(1)[0][0]\n",
    "\n",
    "# Find k nearest neighbours\n",
    "#   Take first k values and sort\n",
    "#   Go over the rest and insert if its smaller than the maximum value\n",
    "# Generate all smaller results\n",
    "\n",
    "# def k_nearest_neighbours(train_images, test_image, k, dist_func):\n",
    "#     '''Returns nearest k indices in order of closest'''\n",
    "#     return np.argpartition(dist_func(train_images, test_image), range(1,k+1), axis=-1)[:k]\n",
    "\n",
    "# neighbour_func = lambda x: k_nearest_neighbours(images_train_small, x, k_range, euclid_dist)\n",
    "# arg_max_func = lambda k: np.argmax(npg.aggregate(numbers_train_small[list(map(neighbour_func, images_test_small[:2]))][:k], 1))\n",
    "# result = list(map(arg_max_func, range(1,k_range+1)))\n",
    "\n",
    "def euclid_dist(train_images, test_image):\n",
    "    return np.linalg.norm(train_images-test_image, axis=-1)\n",
    "\n",
    "def mink_dist(x, y, p):\n",
    "    return np.linalg.norm(x - y, ord=p, axis=-1)\n",
    "\n"
   ]
  },
  {
   "cell_type": "code",
   "execution_count": 3,
   "metadata": {},
   "outputs": [],
   "source": [
    "# MNIST_train 60000 images\n",
    "# MNIST_test 10000 images\n",
    "# MNIST_train_small 3000 images\n",
    "# MNIST_test_small 1000 images\n",
    "\n",
    "# 11 seconds for 60000 images\n",
    "# images = get_images('data/MNIST_train.csv', 60000)\n",
    "numbers_train_small, images_train_small = get_images('data/MNIST_train_small.csv', 3000)\n",
    "numbers_test_small, images_test_small = get_images('data/MNIST_test_small.csv', 1000)"
   ]
  },
  {
   "cell_type": "code",
   "execution_count": 3,
   "metadata": {},
   "outputs": [],
   "source": [
    "numbers_train, images_train = get_images('data/MNIST_train.csv', 60000)\n",
    "numbers_test, images_test = get_images('data/MNIST_test.csv', 10000)"
   ]
  },
  {
   "cell_type": "code",
   "execution_count": 7,
   "metadata": {},
   "outputs": [
    {
     "data": {
      "image/png": "[encoded data removed]",
      "text/plain": [
       "<Figure size 432x288 with 1 Axes>"
      ]
     },
     "metadata": {
      "needs_background": "light"
     },
     "output_type": "display_data"
    }
   ],
   "source": [
    "show_image(images_train[0])"
   ]
  },
  {
   "cell_type": "code",
   "execution_count": 8,
   "metadata": {},
   "outputs": [],
   "source": [
    "def k_nearest_neighbours(train_images, train_numbers, test_image, k, dist_func):\n",
    "    norm_list = dist_func(train_images, test_image)\n",
    "    nearest_idx = np.empty(k, dtype=np.int32)\n",
    "    common_nr = np.empty(k, dtype=np.int8)\n",
    "    for i in range(k):\n",
    "        min_idx = np.argmin(norm_list)\n",
    "        norm_list[min_idx] = np.inf\n",
    "        nearest_idx[i] = min_idx\n",
    "\n",
    "        common_nr[i] = Counter(train_numbers[nearest_idx[:i+1]]).most_common(1)[0][0]\n",
    "\n",
    "    return common_nr"
   ]
  },
  {
   "cell_type": "code",
   "execution_count": 6,
   "metadata": {},
   "outputs": [],
   "source": [
    "k = 20\n",
    "neighbour_func = lambda img: k_nearest_neighbours(images_train_small, numbers_train_small, img, k, euclid_dist)"
   ]
  },
  {
   "cell_type": "code",
   "execution_count": 7,
   "metadata": {},
   "outputs": [],
   "source": [
    "# Train data compared with test data\n",
    "test_common_nrs = np.array(list(map(neighbour_func, images_test_small))).transpose()"
   ]
  },
  {
   "cell_type": "code",
   "execution_count": 8,
   "metadata": {},
   "outputs": [
    {
     "name": "stdout",
     "output_type": "stream",
     "text": [
      "[0.085 0.085 0.077 0.076 0.072 0.076 0.08  0.081 0.083 0.09  0.095 0.097\n",
      " 0.098 0.103 0.103 0.105 0.104 0.111 0.112 0.113]\n"
     ]
    }
   ],
   "source": [
    "not_eq = lambda x,y: x != y\n",
    "\n",
    "# Emprical risk on the test set\n",
    "test_small_risk = np.sum(not_eq(test_common_nrs, numbers_test_small), axis=1)/numbers_test_small.shape[0]\n",
    "print(test_small_risk)"
   ]
  },
  {
   "cell_type": "code",
   "execution_count": 9,
   "metadata": {},
   "outputs": [],
   "source": [
    "# Train data compared with train data\n",
    "train_common_nrs = np.array(list(map(neighbour_func, images_train_small))).transpose()"
   ]
  },
  {
   "cell_type": "code",
   "execution_count": 10,
   "metadata": {},
   "outputs": [
    {
     "name": "stdout",
     "output_type": "stream",
     "text": [
      "[0.         0.         0.02733333 0.027      0.04066667 0.04266667\n",
      " 0.05133333 0.05333333 0.06233333 0.06266667 0.07066667 0.07033333\n",
      " 0.07533333 0.07333333 0.08033333 0.08066667 0.08433333 0.083\n",
      " 0.08466667 0.08566667]\n"
     ]
    }
   ],
   "source": [
    "# Emprical risk on the train set\n",
    "train_small_risk = np.sum(not_eq(train_common_nrs, numbers_train_small), axis=1)/numbers_train_small.shape[0]\n",
    "print(train_small_risk)"
   ]
  },
  {
   "cell_type": "code",
   "execution_count": 114,
   "metadata": {},
   "outputs": [
    {
     "data": {
      "image/png": "[encoded data removed]",
      "text/plain": [
       "<Figure size 576x288 with 1 Axes>"
      ]
     },
     "metadata": {
      "needs_background": "light"
     },
     "output_type": "display_data"
    }
   ],
   "source": [
    "fig, ax = plt.subplots(figsize=(8, 4))\n",
    "ax.scatter(range(1,k+1), test_small_risk, label='Test data')\n",
    "ax.scatter(range(1,k+1), train_small_risk, label='Train data')\n",
    "ax.legend(loc=4)\n",
    "ax.set_xlabel(r\"$k$\")\n",
    "ax.set_ylabel(\"Empirical risk\")\n",
    "ax.xaxis.set_ticks(list(range(1,21)))\n",
    "\n",
    "plt.savefig(\"Figures/ex_a_risk.pdf\")\n",
    "plt.show()\n",
    "\n",
    "# Best k for this model is five!"
   ]
  },
  {
   "cell_type": "code",
   "execution_count": 245,
   "metadata": {},
   "outputs": [
    {
     "data": {
      "text/plain": [
       "'0 & 1 & 2 & 3 & 4 & 5 & 6 & 7 & 8 & 9 & 10 & 11 & 12 & 13 & 14 & 15 & 16 & 17 & 18 & 19'"
      ]
     },
     "execution_count": 245,
     "metadata": {},
     "output_type": "execute_result"
    }
   ],
   "source": [
    "\" & \".join(list(str(i) for i in range(20)))"
   ]
  },
  {
   "attachments": {},
   "cell_type": "markdown",
   "metadata": {},
   "source": [
    "### Function speed tests"
   ]
  },
  {
   "cell_type": "code",
   "execution_count": 9,
   "metadata": {},
   "outputs": [],
   "source": [
    "norm_list = np.linalg.norm(images_train_small-images_test_small[0], axis=-1)\n",
    "nearest_arr = np.empty(20)"
   ]
  },
  {
   "cell_type": "code",
   "execution_count": 7,
   "metadata": {},
   "outputs": [
    {
     "name": "stdout",
     "output_type": "stream",
     "text": [
      "82.2 µs ± 489 ns per loop (mean ± std. dev. of 7 runs, 10000 loops each)\n"
     ]
    }
   ],
   "source": [
    "%%timeit\n",
    "for i in range(20):\n",
    "    min_idx = np.argmin(norm_list)\n",
    "    norm_list[min_idx] = np.inf\n",
    "    nearest_arr[i] = min_idx"
   ]
  },
  {
   "cell_type": "code",
   "execution_count": 14,
   "metadata": {},
   "outputs": [
    {
     "name": "stdout",
     "output_type": "stream",
     "text": [
      "145 µs ± 895 ns per loop (mean ± std. dev. of 7 runs, 10,000 loops each)\n",
      "77.2 µs ± 514 ns per loop (mean ± std. dev. of 7 runs, 10,000 loops each)\n"
     ]
    }
   ],
   "source": [
    "%timeit np.argsort(norm_list)[:20]\n",
    "%timeit np.argpartition(norm_list, range(1,21), axis=-1)[:20]"
   ]
  },
  {
   "cell_type": "code",
   "execution_count": 15,
   "metadata": {},
   "outputs": [],
   "source": [
    "f = lambda x: x ** 2\n",
    "uf = np.frompyfunc(f, 1, 1)\n",
    "g = lambda x, y: x + y\n",
    "x = np.arange(1000)\n",
    "y = np.arange(1000)\n",
    "vf = np.vectorize(f)\n",
    "\n",
    "# f(x) 1.48 mirco s\n",
    "# g(x,y) 1.33 micro s\n",
    "# uf(x) 284 micro s\n",
    "# vf(x) 313 micro s\n",
    "# np.fromiter((f(i) for i in x), x.dtype, count=len(x)) 402 micro s\n",
    "# np.array(list(map(f, x))) 442 micro s\n",
    "# np.array([f(i) for i in x], dtype=x.dtype) 487 micro s\n",
    "# normal for loop 511 micro s\n",
    "# arr = np.empty(x.shape)\n",
    "# for i in range(x.size):\n",
    "#   arr[i] = f(x[i])"
   ]
  },
  {
   "cell_type": "code",
   "execution_count": 11,
   "metadata": {},
   "outputs": [],
   "source": [
    "nearest_arr = np.argsort(norm_list)[:20]"
   ]
  },
  {
   "cell_type": "code",
   "execution_count": 14,
   "metadata": {},
   "outputs": [
    {
     "name": "stdout",
     "output_type": "stream",
     "text": [
      "46.5 µs ± 1.69 µs per loop (mean ± std. dev. of 7 runs, 10000 loops each)\n"
     ]
    }
   ],
   "source": [
    "%timeit np.argmax(npg.aggregate(numbers_train_small[nearest_arr], 1))"
   ]
  },
  {
   "cell_type": "code",
   "execution_count": 13,
   "metadata": {},
   "outputs": [
    {
     "name": "stdout",
     "output_type": "stream",
     "text": [
      "6.44 µs ± 281 ns per loop (mean ± std. dev. of 7 runs, 100000 loops each)\n"
     ]
    }
   ],
   "source": [
    "%timeit Counter(numbers_train_small[nearest_arr]).most_common(1)[0][0]"
   ]
  },
  {
   "attachments": {},
   "cell_type": "markdown",
   "metadata": {},
   "source": [
    "### Leave-One-Out Cross-Validation (LOOCV) to determine the optimal value for k"
   ]
  },
  {
   "cell_type": "code",
   "execution_count": 39,
   "metadata": {},
   "outputs": [],
   "source": [
    "def k_nearest_neighbours_LOOCV(train_images, train_numbers, test_image, k, dist_func, index):\n",
    "    \"\"\" \n",
    "    Applies the k-NN approach, while disregarding index from the train images (LOOCV)\n",
    "    \"\"\"\n",
    "    assert 0 <= index and index < train_images.size, \"Index out of range\"\n",
    "    \n",
    "    \n",
    "    return k_nearest_neighbours(np.delete(train_images, index, axis = 0), np.delete(train_numbers, index), test_image, k, dist_func)"
   ]
  },
  {
   "cell_type": "code",
   "execution_count": 50,
   "metadata": {},
   "outputs": [],
   "source": [
    "def cross_validation(train_images, train_numbers, k_range, dist_func):\n",
    "    \"\"\"\n",
    "    Computes the cross-validation score of the training dataset for each k in the range 1 to k_range\n",
    "    \"\"\"\n",
    "\n",
    "    # Prediction rule for image at index while leaving index out of training\n",
    "    neighbour_LOOCV_func = lambda index: k_nearest_neighbours_LOOCV(train_images, train_numbers, train_images[index], k_range, dist_func, index)\n",
    "\n",
    "    train_common_nrs_LOOCV = np.array(list(map(neighbour_LOOCV_func, range(train_numbers.size)))).transpose()\n",
    "\n",
    "    LOOCV_scores = np.sum(not_eq(train_common_nrs_LOOCV, train_numbers), axis=1)/train_numbers.size\n",
    "\n",
    "    return LOOCV_scores"
   ]
  },
  {
   "cell_type": "code",
   "execution_count": 51,
   "metadata": {},
   "outputs": [],
   "source": [
    "k_range = 20\n",
    "LOOCV_scores = cross_validation(images_train_small, numbers_train_small, k_range, euclid_dist)"
   ]
  },
  {
   "cell_type": "code",
   "execution_count": 89,
   "metadata": {},
   "outputs": [],
   "source": [
    "def create_latex_table(lists, caption = None, label = None):\n",
    "    \n",
    "    n = len(list(lists[0]))\n",
    "    start = \"\\\\begin{table}[H] \\n\\\\centering \\n\\\\begin{tabular}{|\" + \"l|\" * n + \"} \\\\hline \\n\"\n",
    "\n",
    "    add_middle = lambda x: \" & \".join(list(map(str, x))) + \" \\\\\\\\ \\hline\"\n",
    "\n",
    "    middle = \"\\n\".join(list(map(add_middle, lists)))\n",
    "\n",
    "    ref = (\"\\n\\\\caption{\" + caption + \"}\" if caption else \"\") + \"\\n\\\\label{\" + label + \"}\" if label else \"\"\n",
    "\n",
    "    end = \"\\n\\\\end{tabular}\" + ref + \"\\n\\\\end{table}\"\n",
    "\n",
    "    print(start + middle + end)\n",
    "\n",
    "    return None"
   ]
  },
  {
   "cell_type": "code",
   "execution_count": 109,
   "metadata": {},
   "outputs": [
    {
     "name": "stdout",
     "output_type": "stream",
     "text": [
      "\\begin{table}[H] \n",
      "\\centering \n",
      "\\begin{tabular}{|l|l|l|l|l|l|l|l|l|l|l|} \\hline \n",
      "$k$ & 1 & 2 & 3 & 4 & 5 & 6 & 7 & 8 & 9 & 10 \\\\ \\hline\n",
      "LOOCV & 0.081 & 0.081 & 0.073 & 0.073 & 0.078 & 0.079 & 0.082 & 0.082 & 0.083 & 0.089 \\\\ \\hline\n",
      "$k$ & 11 & 12 & 13 & 14 & 15 & 16 & 17 & 18 & 19 & 20 \\\\ \\hline\n",
      "LOOCV & 0.088 & 0.089 & 0.092 & 0.093 & 0.094 & 0.095 & 0.096 & 0.096 & 0.098 & 0.098 \\\\ \\hline\n",
      "\\end{tabular}\n",
      "\\caption{Leave-One-Out Cross-Validation (LOOCV) score over the training dataset (minimized for k = 3, 4)}\n",
      "\\label{tab:LOOCV_small}\n",
      "\\end{table}\n"
     ]
    }
   ],
   "source": [
    "round_to_three = lambda x: \"{:0.3f}\".format(x)\n",
    "LOOCV_scores_rounded = list(map(round_to_three, LOOCV_scores))\n",
    "k_min = \", \".join(list(map(str, 1 + np.where(abs(LOOCV_scores - np.min(LOOCV_scores)) < 1e-10)[0])))\n",
    "caption = f\"Leave-One-Out Cross-Validation (LOOCV) score over the training dataset (minimized for k = {k_min})\"\n",
    "label = \"tab:LOOCV_small\"\n",
    "create_latex_table([[\"$k$\", *range(1, 11)], [\"LOOCV\", *LOOCV_scores_rounded[:10]], [\"$k$\", *range(11, 21)], [\"LOOCV\", *LOOCV_scores_rounded[10:20]]], caption = caption, label = label)"
   ]
  },
  {
   "cell_type": "code",
   "execution_count": 112,
   "metadata": {},
   "outputs": [
    {
     "data": {
      "image/png": "[encoded data removed]",
      "text/plain": [
       "<Figure size 576x288 with 1 Axes>"
      ]
     },
     "metadata": {
      "needs_background": "light"
     },
     "output_type": "display_data"
    }
   ],
   "source": [
    "fig, ax = plt.subplots(figsize=(8, 4))\n",
    "ax.scatter(range(1,k+1), LOOCV_scores, label='LOOCV scores')\n",
    "ax.scatter(range(1,k+1), test_small_risk, label='Risk of test data')\n",
    "ax.legend(loc=4)\n",
    "ax.set_xlabel(r\"$k$\")\n",
    "ax.set_ylabel(\"Empirical risk/ LOOCV\")\n",
    "ax.xaxis.set_ticks(list(range(1,21)))\n",
    "\n",
    "plt.savefig(\"Figures/ex_b_risk_LOOCV.pdf\")\n",
    "plt.show()\n",
    "\n"
   ]
  },
  {
   "attachments": {},
   "cell_type": "markdown",
   "metadata": {},
   "source": [
    "### Minkowski distances"
   ]
  },
  {
   "cell_type": "code",
   "execution_count": 59,
   "metadata": {},
   "outputs": [],
   "source": [
    "def minkowski_distance(x, y, p):\n",
    "    return np.sum(np.abs(x - y)**p, axis=1)**(1/p)"
   ]
  },
  {
   "cell_type": "code",
   "execution_count": 118,
   "metadata": {},
   "outputs": [
    {
     "name": "stderr",
     "output_type": "stream",
     "text": [
      "C:\\Users\\20192042\\AppData\\Local\\Temp\\ipykernel_19892\\4219171555.py:2: RuntimeWarning: invalid value encountered in power\n",
      "  return np.sum(np.abs(x - y)**p, axis=1)**(1/p)\n"
     ]
    }
   ],
   "source": [
    "k_range = 20\n",
    "p_range = 15\n",
    "LOOCV_scores_minkowski_p = lambda p: cross_validation(images_train_small, numbers_train_small, k_range, lambda x,y: minkowski_distance(x,y,p))\n",
    "\n",
    "LOOCV_scores_minkowski = np.array(list(map(LOOCV_scores_minkowski_p, range(1, p_range + 1))))"
   ]
  },
  {
   "cell_type": "code",
   "execution_count": 158,
   "metadata": {},
   "outputs": [],
   "source": [
    "def create_matrix(mat, xlab = \"i\", ylab = \"j\", mat_name = \"S\", dx = 0, dy = 0):\n",
    "\n",
    "    nx = len(list(mat[0]))\n",
    "    ny = len(list(mat))\n",
    "    start = \"\\\\begin{table}[H] \\n\\\\centering \\n\\\\begin{tabular}{l|\" + \"c\" * nx + \"} \\\\hline \\n\"\n",
    "\n",
    "    header = f\"\\\\backslashbox{{{ylab}}}{{{xlab}}} & \" + \" & \".join(list(map(str,range(1 + dx, dx + nx + 1)))) + \" \\\\\\\\ \\hline \\n\"\n",
    "\n",
    "    add_middle = lambda i: str(i+1+dy) + \" & \" + \" & \".join(list(map(str, mat[i]))) + \" \\\\\\\\\"\n",
    "\n",
    "    middle = \"\\n\".join(list(map(add_middle, range(ny))))\n",
    "\n",
    "    end = \"\\n\\\\end{tabular}\" + \"\\n\\\\end{table}\"\n",
    "\n",
    "    print(start + header + middle + end)\n",
    "\n",
    "    return None\n"
   ]
  },
  {
   "cell_type": "code",
   "execution_count": 159,
   "metadata": {},
   "outputs": [
    {
     "name": "stdout",
     "output_type": "stream",
     "text": [
      "\\begin{table}[H] \n",
      "\\centering \n",
      "\\begin{tabular}{l|cccccccccc} \\hline \n",
      "\\backslashbox{$p$}{$k$} & 1 & 2 & 3 & 4 & 5 & 6 & 7 & 8 & 9 & 10 \\\\ \\hline \n",
      "1 & 0.090 & 0.090 & 0.090 & 0.083 & 0.091 & 0.090 & 0.097 & 0.091 & 0.097 & 0.097 \\\\\n",
      "2 & 0.942 & 0.942 & 0.944 & 0.952 & 0.957 & 0.962 & 0.961 & 0.964 & 0.965 & 0.964 \\\\\n",
      "3 & 0.750 & 0.750 & 0.735 & 0.715 & 0.697 & 0.681 & 0.677 & 0.664 & 0.656 & 0.646 \\\\\n",
      "4 & 0.932 & 0.932 & 0.926 & 0.930 & 0.923 & 0.937 & 0.938 & 0.939 & 0.939 & 0.941 \\\\\n",
      "5 & 0.904 & 0.904 & 0.903 & 0.892 & 0.882 & 0.884 & 0.882 & 0.879 & 0.879 & 0.877 \\\\\n",
      "6 & 0.506 & 0.506 & 0.458 & 0.429 & 0.406 & 0.390 & 0.384 & 0.370 & 0.361 & 0.356 \\\\\n",
      "7 & 0.946 & 0.946 & 0.946 & 0.957 & 0.944 & 0.965 & 0.965 & 0.964 & 0.963 & 0.961 \\\\\n",
      "8 & 0.910 & 0.910 & 0.910 & 0.898 & 0.895 & 0.902 & 0.902 & 0.902 & 0.902 & 0.902 \\\\\n",
      "9 & 0.712 & 0.712 & 0.689 & 0.669 & 0.667 & 0.648 & 0.639 & 0.627 & 0.611 & 0.611 \\\\\n",
      "10 & 0.861 & 0.861 & 0.864 & 0.864 & 0.860 & 0.856 & 0.858 & 0.852 & 0.850 & 0.851 \\\\\n",
      "11 & 0.908 & 0.908 & 0.908 & 0.898 & 0.894 & 0.899 & 0.899 & 0.900 & 0.898 & 0.898 \\\\\n",
      "12 & 0.657 & 0.657 & 0.623 & 0.593 & 0.580 & 0.566 & 0.556 & 0.552 & 0.545 & 0.540 \\\\\n",
      "13 & 0.940 & 0.940 & 0.941 & 0.960 & 0.948 & 0.965 & 0.965 & 0.968 & 0.968 & 0.967 \\\\\n",
      "14 & 0.587 & 0.587 & 0.504 & 0.465 & 0.456 & 0.447 & 0.438 & 0.436 & 0.429 & 0.421 \\\\\n",
      "15 & 0.907 & 0.907 & 0.908 & 0.893 & 0.892 & 0.893 & 0.893 & 0.893 & 0.893 & 0.893 \\\\\n",
      "\\end{tabular}\n",
      "\\end{table}\n"
     ]
    }
   ],
   "source": [
    "round_to_three = lambda x: \"{:0.3f}\".format(x)\n",
    "round_to_three_list = lambda x: list(map(round_to_three, x))\n",
    "LOOCV_scores_minkowski_rounded = list(map(round_to_three_list, LOOCV_scores_minkowski))\n",
    "create_matrix([x[:10] for x in LOOCV_scores_minkowski_rounded], xlab = \"$k$\", ylab = \"$p$\")"
   ]
  },
  {
   "cell_type": "code",
   "execution_count": 160,
   "metadata": {},
   "outputs": [
    {
     "name": "stdout",
     "output_type": "stream",
     "text": [
      "\\begin{table}[H] \n",
      "\\centering \n",
      "\\begin{tabular}{l|cccccccccc} \\hline \n",
      "\\backslashbox{$p$}{$k$} & 11 & 12 & 13 & 14 & 15 & 16 & 17 & 18 & 19 & 20 \\\\ \\hline \n",
      "1 & 0.099 & 0.101 & 0.103 & 0.102 & 0.108 & 0.107 & 0.110 & 0.110 & 0.111 & 0.113 \\\\\n",
      "2 & 0.966 & 0.969 & 0.971 & 0.972 & 0.973 & 0.974 & 0.976 & 0.980 & 0.978 & 0.977 \\\\\n",
      "3 & 0.640 & 0.631 & 0.627 & 0.627 & 0.624 & 0.621 & 0.621 & 0.613 & 0.605 & 0.597 \\\\\n",
      "4 & 0.944 & 0.941 & 0.942 & 0.946 & 0.949 & 0.950 & 0.956 & 0.964 & 0.963 & 0.959 \\\\\n",
      "5 & 0.873 & 0.872 & 0.867 & 0.864 & 0.866 & 0.869 & 0.867 & 0.881 & 0.880 & 0.881 \\\\\n",
      "6 & 0.339 & 0.339 & 0.331 & 0.328 & 0.323 & 0.317 & 0.311 & 0.307 & 0.298 & 0.299 \\\\\n",
      "7 & 0.962 & 0.962 & 0.962 & 0.964 & 0.963 & 0.963 & 0.965 & 0.963 & 0.959 & 0.955 \\\\\n",
      "8 & 0.903 & 0.903 & 0.903 & 0.903 & 0.901 & 0.901 & 0.904 & 0.923 & 0.922 & 0.922 \\\\\n",
      "9 & 0.605 & 0.604 & 0.600 & 0.591 & 0.585 & 0.579 & 0.573 & 0.567 & 0.557 & 0.553 \\\\\n",
      "10 & 0.852 & 0.851 & 0.849 & 0.845 & 0.837 & 0.841 & 0.845 & 0.843 & 0.841 & 0.842 \\\\\n",
      "11 & 0.898 & 0.898 & 0.899 & 0.895 & 0.892 & 0.893 & 0.891 & 0.915 & 0.913 & 0.913 \\\\\n",
      "12 & 0.534 & 0.524 & 0.520 & 0.516 & 0.513 & 0.509 & 0.510 & 0.509 & 0.502 & 0.502 \\\\\n",
      "13 & 0.965 & 0.966 & 0.967 & 0.968 & 0.967 & 0.964 & 0.964 & 0.961 & 0.957 & 0.956 \\\\\n",
      "14 & 0.420 & 0.418 & 0.417 & 0.414 & 0.411 & 0.407 & 0.405 & 0.403 & 0.400 & 0.400 \\\\\n",
      "15 & 0.893 & 0.893 & 0.893 & 0.893 & 0.893 & 0.893 & 0.893 & 0.907 & 0.907 & 0.907 \\\\\n",
      "\\end{tabular}\n",
      "\\end{table}\n"
     ]
    }
   ],
   "source": [
    "create_matrix([x[10:] for x in LOOCV_scores_minkowski_rounded], xlab = \"$k$\", ylab = \"$p$\", dx = 10)"
   ]
  },
  {
   "cell_type": "code",
   "execution_count": 163,
   "metadata": {},
   "outputs": [
    {
     "data": {
      "text/plain": [
       "(0, 3)"
      ]
     },
     "execution_count": 163,
     "metadata": {},
     "output_type": "execute_result"
    }
   ],
   "source": [
    "# Index of minimum p and k\n",
    "np.unravel_index(LOOCV_scores_minkowski.argmin(), LOOCV_scores_minkowski.shape)"
   ]
  },
  {
   "attachments": {},
   "cell_type": "markdown",
   "metadata": {},
   "source": [
    "### Large sets"
   ]
  },
  {
   "cell_type": "code",
   "execution_count": 9,
   "metadata": {},
   "outputs": [],
   "source": [
    "k = 20\n",
    "neighbour_func_large = lambda img: k_nearest_neighbours(images_train, numbers_train, img, k, euclid_dist)"
   ]
  },
  {
   "cell_type": "code",
   "execution_count": 16,
   "metadata": {},
   "outputs": [
    {
     "name": "stdout",
     "output_type": "stream",
     "text": [
      "447 ms ± 21.1 ms per loop (mean ± std. dev. of 7 runs, 1 loop each)\n"
     ]
    }
   ],
   "source": [
    "# less than 500 ms for 10000 test images is less than 5000 seconds\n",
    "%timeit neighbour_func_large(images_test[0])"
   ]
  },
  {
   "cell_type": "code",
   "execution_count": 22,
   "metadata": {},
   "outputs": [
    {
     "name": "stdout",
     "output_type": "stream",
     "text": [
      "Dist time: 0.4067474000000857\n",
      "Neasest k time: 0.0012456000000611311\n",
      "Dist time: 0.49143629999991845\n",
      "Neasest k time: 0.0023376999999982218\n",
      "Dist time: 0.4948886999999331\n",
      "Neasest k time: 0.0012935999999399428\n",
      "Dist time: 0.4059293999999909\n",
      "Neasest k time: 0.001276200000006611\n",
      "Dist time: 0.41600419999997484\n",
      "Neasest k time: 0.0012312000000065382\n",
      "Dist time: 0.4217529000000013\n",
      "Neasest k time: 0.00146349999999984\n",
      "Dist time: 0.43385939999996026\n",
      "Neasest k time: 0.00127569999995103\n",
      "Dist time: 0.4564923999998882\n",
      "Neasest k time: 0.0014170000000603977\n",
      "447 ms ± 33.6 ms per loop (mean ± std. dev. of 7 runs, 1 loop each)\n"
     ]
    }
   ],
   "source": [
    "%%timeit\n",
    "k = 20\n",
    "img = images_test[0]\n",
    "time_list = np.empty(10)\n",
    "\n",
    "# Time dist\n",
    "dist_time = perf_counter()\n",
    "norm_list = euclid_dist(images_train, img)\n",
    "dist_time = perf_counter() - dist_time\n",
    "print(f\"Dist time: {dist_time}\")\n",
    "\n",
    "nearest_idx = np.empty(k, dtype=np.int32)\n",
    "common_nr = np.empty(k, dtype=np.int8)\n",
    "\n",
    "# Time get nearest\n",
    "nearest_time = perf_counter()\n",
    "for i in range(k):\n",
    "    min_idx = np.argmin(norm_list)\n",
    "    norm_list[min_idx] = np.inf\n",
    "    nearest_idx[i] = min_idx\n",
    "\n",
    "    common_nr[i] = Counter(numbers_train[nearest_idx[:i+1]]).most_common(1)[0][0]\n",
    "nearest_time = perf_counter() - nearest_time\n",
    "print(f\"Neasest k time: {nearest_time}\")\n",
    "\n",
    "# print(common_nr)"
   ]
  },
  {
   "cell_type": "code",
   "execution_count": 45,
   "metadata": {},
   "outputs": [
    {
     "name": "stdout",
     "output_type": "stream",
     "text": [
      "(16.0, 32.0, 48.0, 64.0, 80.0, 96.0, 112.0, 128.0, 144.0, 160.0, 176.0, 192.0, 208.0, 224.0, 240.0)\n",
      "Counter({0: 627, 15: 64, 14: 12, 1: 11, 5: 9, 9: 8, 13: 8, 7: 6, 11: 6, 10: 6, 3: 5, 12: 5, 2: 5, 6: 4, 8: 4, 4: 4})\n"
     ]
    }
   ],
   "source": [
    "# Train data compared with test data\n",
    "# Estimated completion time less than 5000 seconds\n",
    "# test_common_nrs = np.array(list(map(neighbour_func_large, images_test))).transpose()"
   ]
  },
  {
   "cell_type": "code",
   "execution_count": null,
   "metadata": {},
   "outputs": [],
   "source": [
    "# k_range = 20\n",
    "# LOOCV_scores = cross_validation(images_train_small, numbers_train_small, k_range, euclid_dist)"
   ]
  }
 ],
 "metadata": {
  "kernelspec": {
   "display_name": "base",
   "language": "python",
   "name": "python3"
  },
  "language_info": {
   "codemirror_mode": {
    "name": "ipython",
    "version": 3
   },
   "file_extension": ".py",
   "mimetype": "text/x-python",
   "name": "python",
   "nbconvert_exporter": "python",
   "pygments_lexer": "ipython3",
   "version": "3.8.5"
  },
  "orig_nbformat": 4,
  "vscode": {
   "interpreter": {
    "hash": "ad2bdc8ecc057115af97d19610ffacc2b4e99fae6737bb82f5d7fb13d2f2c186"
   }
  }
 },
 "nbformat": 4,
 "nbformat_minor": 2
}
