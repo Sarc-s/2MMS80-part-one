{
 "cells": [
  {
   "cell_type": "code",
   "execution_count": 1,
   "metadata": {},
   "outputs": [],
   "source": [
    "import numpy as np\n",
    "import matplotlib.pyplot as plt\n",
    "from collections import Counter\n",
    "import pickle"
   ]
  },
  {
   "cell_type": "code",
   "execution_count": 2,
   "metadata": {},
   "outputs": [],
   "source": [
    "def get_images(name, size):\n",
    "    images = np.empty((size, 784))\n",
    "    numbers = np.empty(size)\n",
    "\n",
    "    with open(name, 'rt') as file:\n",
    "        for i in range(size):\n",
    "            row = file.readline().split(',')\n",
    "\n",
    "            numbers[i] = row[0]\n",
    "            images[i] = row[1:]\n",
    "\n",
    "\n",
    "    return numbers, images\n",
    "\n",
    "def show_image(image):\n",
    "    plt.imshow(image.reshape((28,28)), cmap='gray')\n",
    "    plt.show()\n",
    "\n",
    "def k_nearest_neighbour(image, numbers, images, k):\n",
    "    sorted_indices = np.argsort(np.linalg.norm(images-image, axis=-1))\n",
    "    return Counter(numbers[i] for i in sorted_indices[:k]).most_common(1)[0][0]"
   ]
  },
  {
   "cell_type": "code",
   "execution_count": 3,
   "metadata": {},
   "outputs": [],
   "source": [
    "# MNIST_train 60000 images\n",
    "# MNIST_test 10000 images\n",
    "# MNIST_train_small 3000 images\n",
    "# MNIST_test_small 1000 images\n",
    "\n",
    "# 11 seconds for 60000 images\n",
    "# images = get_images('data/MNIST_train.csv', 60000)\n",
    "numbers_train_small, images_train_small = get_images('data/MNIST_train_small.csv', 3000)\n",
    "numbers_test_small, images_test_small = get_images('data/MNIST_test_small.csv', 1000)"
   ]
  },
  {
   "cell_type": "code",
   "execution_count": 4,
   "metadata": {},
   "outputs": [
    {
     "data": {
      "image/png": "[encoded data removed]",
      "text/plain": [
       "<Figure size 432x288 with 1 Axes>"
      ]
     },
     "metadata": {
      "needs_background": "light"
     },
     "output_type": "display_data"
    }
   ],
   "source": [
    "show_image(images_train_small[0])"
   ]
  },
  {
   "cell_type": "code",
   "execution_count": 5,
   "metadata": {},
   "outputs": [],
   "source": [
    "test_n = len(numbers_test_small)\n",
    "k_range = 20\n",
    "result = np.empty((k_range, test_n))\n",
    "\n",
    "# for k in range(k_range):\n",
    "#     for i in range(test_n):\n",
    "#         # result[k-1][i][1] = k_nearest_neighbour(images_test_small[i], numbers_train_small, images_train_small, k+1)\n",
    "#         result[k][i] = 1"
   ]
  },
  {
   "cell_type": "code",
   "execution_count": 6,
   "metadata": {},
   "outputs": [],
   "source": [
    "# takes about 10 minutes\n",
    "with open('result.csv', 'xt') as file:\n",
    "    for k in range(k_range):\n",
    "        for i in range(test_n):\n",
    "            file.write(str(k_nearest_neighbour(images_test_small[i], numbers_train_small, images_train_small, k+1)))\n",
    "            if i < test_n-1:\n",
    "                file.write(',')\n",
    "        file.write('\\n')"
   ]
  },
  {
   "cell_type": "code",
   "execution_count": 51,
   "metadata": {},
   "outputs": [],
   "source": []
  }
 ],
 "metadata": {
  "kernelspec": {
   "display_name": "base",
   "language": "python",
   "name": "python3"
  },
  "language_info": {
   "codemirror_mode": {
    "name": "ipython",
    "version": 3
   },
   "file_extension": ".py",
   "mimetype": "text/x-python",
   "name": "python",
   "nbconvert_exporter": "python",
   "pygments_lexer": "ipython3",
   "version": "3.8.5"
  },
  "orig_nbformat": 4,
  "vscode": {
   "interpreter": {
    "hash": "ad2bdc8ecc057115af97d19610ffacc2b4e99fae6737bb82f5d7fb13d2f2c186"
   }
  }
 },
 "nbformat": 4,
 "nbformat_minor": 2
}
