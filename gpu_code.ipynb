{
 "cells": [
  {
   "cell_type": "code",
   "execution_count": 1,
   "metadata": {},
   "outputs": [
    {
     "name": "stdout",
     "output_type": "stream",
     "text": [
      "Warp 0.6.1 initialized:\n",
      "   CUDA Toolkit: 11.5, Driver: 12.0\n",
      "   Devices:\n",
      "     \"cpu\"    | AMD64 Family 23 Model 113 Stepping 0, AuthenticAMD\n",
      "     \"cuda:0\" | NVIDIA GeForce RTX 3070 (sm_86)\n",
      "   Kernel cache: C:\\Users\\Desktop Capspur\\AppData\\Local\\NVIDIA Corporation\\warp\\Cache\\0.6.1\n"
     ]
    }
   ],
   "source": [
    "import warp as wp\n",
    "wp.init()\n",
    "import numpy as np"
   ]
  },
  {
   "attachments": {},
   "cell_type": "markdown",
   "metadata": {},
   "source": [
    "### Test code"
   ]
  },
  {
   "cell_type": "code",
   "execution_count": 2,
   "metadata": {},
   "outputs": [],
   "source": [
    "train_img = np.array([  0,   0,   0,   0,   0,   0,   0,   0,   0,   0,   0,   0,   0,\n",
    "          0,   0,   0,   0,   0,   0,   0,   0,   0,   0,   0,   0,   0,\n",
    "          0,   0,   0,   0,   0,   0,   0,   0,   0,   0,   0,   0,   0,\n",
    "          0,   0,   0,   0,   0,   0,   0,   0,   0,   0,   0,   0,   0,\n",
    "          3,  18,  18,  18, 126, 136, 175,  26, 166, 255, 247, 127,   0,\n",
    "          0,   0,   0,   0,   0,   0,   0,   0,   0,   0,   0,  30,  36,\n",
    "         94, 154, 170, 253, 253, 253, 253, 253, 225, 172, 253, 242, 195,\n",
    "         64,   0,   0,   0,   0,   0,   0,   0,   0], dtype=np.int16)\n",
    "test_img = np.array([ 93,   0,   0,   0,   0,   0,   0,   0,   0,   0,   0,   0,   0,\n",
    "          0,   0,   0,   0,   0,   0,   0,   0, 169, 253, 253, 253, 253,\n",
    "        253, 253, 218,  30,   0,   0,   0,   0,   0,   0,   0,   0,   0,\n",
    "          0,   0,   0,   0,   0,   0,   0,   0,   0, 169, 253, 253, 253,\n",
    "        213, 142, 176, 253, 253, 122,   0,   0,   0,   0,   0,   0,   0,\n",
    "          0,   0,   0,   0,   0,   0,   0,   0,   0,   0,  52, 250, 253,\n",
    "        210,  32,  12,   0,   6, 206, 253, 140,   0,   0,   0,   0,   0,\n",
    "          0,   0,   0,   0,   0,   0,   0,   0,   0], dtype=np.int16)"
   ]
  },
  {
   "cell_type": "code",
   "execution_count": 3,
   "metadata": {},
   "outputs": [],
   "source": [
    "@wp.kernel\n",
    "def sq_add(train_img: wp.array(dtype=float),\n",
    "           test_img: wp.array(dtype=float),\n",
    "           sq_sum: wp.array(dtype=float)):\n",
    "\n",
    "   # thread index\n",
    "   tid = wp.tid()\n",
    "    \n",
    "   sq_abs = wp.pow(train_img[tid] - test_img[tid], 2.0)\n",
    "   \n",
    "   wp.atomic_add(sq_sum, 0, sq_abs)"
   ]
  },
  {
   "cell_type": "code",
   "execution_count": 4,
   "metadata": {},
   "outputs": [
    {
     "name": "stdout",
     "output_type": "stream",
     "text": [
      "1583682\n",
      "Module __main__ load on device 'cuda:0' took 271.22 ms\n",
      "[1583682.]\n"
     ]
    }
   ],
   "source": [
    "print(sum(i**2 for i in train_img-test_img))\n",
    "\n",
    "wptrain = wp.from_numpy(train_img, dtype=float)\n",
    "wptest = wp.from_numpy(test_img, dtype=float)\n",
    "wpresults = wp.array([0], dtype=float)\n",
    "\n",
    "wp.launch(kernel=sq_add,\n",
    "          dim=len(train_img),\n",
    "          inputs=[wptrain, wptest, wpresults])\n",
    "\n",
    "print(wpresults.numpy())"
   ]
  },
  {
   "cell_type": "code",
   "execution_count": 5,
   "metadata": {},
   "outputs": [],
   "source": [
    "@wp.kernel\n",
    "def img_norm(train_imgs: wp.array(dtype=float, ndim=2),\n",
    "           test_img: wp.array(dtype=float),\n",
    "           n: int,\n",
    "           p: float,\n",
    "           norms: wp.array(dtype=float)):\n",
    "\n",
    "    # thread index\n",
    "    tid = wp.tid()\n",
    "\n",
    "    train_img = train_imgs[tid]\n",
    "\n",
    "    s = float(0)\n",
    "    for i in range(n):\n",
    "        diff = wp.abs(train_img[i] - test_img[i])\n",
    "        s += wp.pow(diff, p)\n",
    "    \n",
    "    norms[tid] = wp.pow(s, 1.0/p)"
   ]
  },
  {
   "cell_type": "code",
   "execution_count": 6,
   "metadata": {},
   "outputs": [
    {
     "name": "stdout",
     "output_type": "stream",
     "text": [
      "1258.4442776698538\n",
      "Module __main__ load on device 'cuda:0' took 400.00 ms\n",
      "[1258.4442 1258.4442 1258.4442 1258.4442 1258.4442 1258.4442 1258.4442\n",
      " 1258.4442 1258.4442 1258.4442]\n"
     ]
    }
   ],
   "source": [
    "print(np.linalg.norm(train_img-test_img))\n",
    "\n",
    "train_imgs = np.tile(train_img, (10,1))\n",
    "wptrain = wp.from_numpy(train_imgs, dtype=float)\n",
    "wptest = wp.from_numpy(test_img, dtype=float)\n",
    "wpresults = wp.empty(shape=len(train_imgs), dtype=float)\n",
    "\n",
    "wp.launch(kernel=img_norm,\n",
    "          dim=len(train_imgs),\n",
    "          inputs=[wptrain, wptest, len(test_img), 2, wpresults])\n",
    "\n",
    "print(wpresults.numpy())"
   ]
  },
  {
   "attachments": {},
   "cell_type": "markdown",
   "metadata": {},
   "source": [
    "### Run code"
   ]
  },
  {
   "cell_type": "code",
   "execution_count": 7,
   "metadata": {},
   "outputs": [],
   "source": [
    "import matplotlib.pyplot as plt\n",
    "plt.rcParams.update({'font.size': 12})\n",
    "from collections import Counter\n",
    "from time import perf_counter"
   ]
  },
  {
   "attachments": {},
   "cell_type": "markdown",
   "metadata": {},
   "source": [
    "Image functions"
   ]
  },
  {
   "cell_type": "code",
   "execution_count": 8,
   "metadata": {},
   "outputs": [],
   "source": [
    "def get_images(name, size):\n",
    "    images = np.empty((size, 784), dtype=np.int16)\n",
    "    numbers = np.empty(size, dtype=np.int32)\n",
    "\n",
    "    with open(name, 'rt') as file:\n",
    "        for i in range(size):\n",
    "            row = file.readline().split(',')\n",
    "\n",
    "            numbers[i] = row[0]\n",
    "            images[i] = row[1:]\n",
    "\n",
    "    return numbers, images\n",
    "\n",
    "def show_image(image):\n",
    "    plt.imshow(image.reshape((28,28)), cmap='gray')\n",
    "    plt.show()"
   ]
  },
  {
   "attachments": {},
   "cell_type": "markdown",
   "metadata": {},
   "source": [
    "Latex functions"
   ]
  },
  {
   "cell_type": "code",
   "execution_count": 9,
   "metadata": {},
   "outputs": [],
   "source": [
    "def create_latex_table(lists, caption = None, label = None):\n",
    "    \n",
    "    n = len(list(lists[0]))\n",
    "    start = \"\\\\begin{table}[H] \\n\\\\centering \\n\\\\begin{tabular}{|\" + \"l|\" * n + \"} \\\\hline \\n\"\n",
    "\n",
    "    add_middle = lambda x: \" & \".join(list(map(str, x))) + \" \\\\\\\\ \\hline\"\n",
    "\n",
    "    middle = \"\\n\".join(list(map(add_middle, lists)))\n",
    "\n",
    "    ref = (\"\\n\\\\caption{\" + caption + \"}\" if caption else \"\") + \"\\n\\\\label{\" + label + \"}\" if label else \"\"\n",
    "\n",
    "    end = \"\\n\\\\end{tabular}\" + ref + \"\\n\\\\end{table}\"\n",
    "\n",
    "    print(start + middle + end)\n",
    "\n",
    "    return None\n",
    "\n",
    "def create_matrix(mat, xlab = \"i\", ylab = \"j\", mat_name = \"S\", dx = 0, dy = 0):\n",
    "\n",
    "    nx = len(list(mat[0]))\n",
    "    ny = len(list(mat))\n",
    "    start = \"\\\\begin{table}[H] \\n\\\\centering \\n\\\\begin{tabular}{l|\" + \"c\" * nx + \"} \\\\hline \\n\"\n",
    "\n",
    "    header = f\"\\\\backslashbox{{{ylab}}}{{{xlab}}} & \" + \" & \".join(list(map(str,range(1 + dx, dx + nx + 1)))) + \" \\\\\\\\ \\hline \\n\"\n",
    "\n",
    "    add_middle = lambda i: str(i+1+dy) + \" & \" + \" & \".join(list(map(str, mat[i]))) + \" \\\\\\\\\"\n",
    "\n",
    "    middle = \"\\n\".join(list(map(add_middle, range(ny))))\n",
    "\n",
    "    end = \"\\n\\\\end{tabular}\" + \"\\n\\\\end{table}\"\n",
    "\n",
    "    print(start + header + middle + end)\n",
    "\n",
    "    return None"
   ]
  },
  {
   "attachments": {},
   "cell_type": "markdown",
   "metadata": {},
   "source": [
    "Cpu functions"
   ]
  },
  {
   "cell_type": "code",
   "execution_count": 10,
   "metadata": {},
   "outputs": [],
   "source": [
    "def mink_dist(x, y, p=2):\n",
    "    return np.linalg.norm(x - y, ord=p, axis=-1)\n",
    "\n",
    "not_eq = lambda x,y: x != y\n",
    "\n",
    "def k_nearest_neighbours(train_images, train_numbers, test_image, k, dist_func):\n",
    "    norm_list = dist_func(train_images, test_image)\n",
    "    nearest_idx = np.empty(k, dtype=np.int32)\n",
    "    common_nr = np.empty(k, dtype=np.int8)\n",
    "    for i in range(k):\n",
    "        min_idx = np.argmin(norm_list)\n",
    "        norm_list[min_idx] = np.inf\n",
    "        nearest_idx[i] = min_idx\n",
    "\n",
    "        common_nr[i] = Counter(train_numbers[nearest_idx[:i+1]]).most_common(1)[0][0]\n",
    "\n",
    "    return common_nr\n",
    "\n",
    "def k_nearest_neighbours_LOOCV(train_images, train_numbers, test_image, k, dist_func, index):\n",
    "    \"\"\" \n",
    "    Applies the k-NN approach, while disregarding index from the train images (LOOCV)\n",
    "    \"\"\"\n",
    "    assert 0 <= index and index < train_images.size, \"Index out of range\"\n",
    "    \n",
    "    return k_nearest_neighbours(np.delete(train_images, index, axis = 0), np.delete(train_numbers, index), test_image, k, dist_func)\n",
    "\n",
    "def cross_validation(train_images, train_numbers, k_range, dist_func):\n",
    "    \"\"\"\n",
    "    Computes the cross-validation score of the training dataset for each k in the range 1 to k_range\n",
    "    \"\"\"\n",
    "\n",
    "    # Prediction rule for image at index while leaving index out of training\n",
    "    neighbour_LOOCV_func = lambda index: k_nearest_neighbours_LOOCV(train_images, train_numbers, train_images[index], k_range, dist_func, index)\n",
    "\n",
    "    train_common_nrs_LOOCV = np.array(list(map(neighbour_LOOCV_func, range(train_numbers.size)))).transpose()\n",
    "\n",
    "    LOOCV_scores = np.sum(not_eq(train_common_nrs_LOOCV, train_numbers), axis=1)/train_numbers.size\n",
    "\n",
    "    return LOOCV_scores"
   ]
  },
  {
   "attachments": {},
   "cell_type": "markdown",
   "metadata": {},
   "source": [
    "Gpu functions"
   ]
  },
  {
   "cell_type": "code",
   "execution_count": 11,
   "metadata": {},
   "outputs": [],
   "source": [
    "def k_nearest_neighbours_gpu(wpimages_train, train_numbers, img, k, p, leave_out = 0):\n",
    "    wpimages_train_len = wpimages_train.shape[0]\n",
    "    wpimg = wp.from_numpy(img, dtype=float, device='cuda:0')\n",
    "    wpresults = wp.empty(shape=wpimages_train_len, dtype=float, device='cuda:0')\n",
    "\n",
    "    wp.launch(kernel=img_norm,\n",
    "          dim=wpimages_train_len,\n",
    "          inputs=[wpimages_train, wpimg, wpimg.size, p, wpresults],\n",
    "          device='cuda:0')\n",
    "\n",
    "    norm_list = wpresults.numpy()\n",
    "\n",
    "    nearest_idx = np.empty(k, dtype=np.int32)\n",
    "    common_nr = np.empty(k, dtype=np.int8)\n",
    "    for i in range(leave_out):\n",
    "        min_idx = np.argmin(norm_list)\n",
    "        norm_list[min_idx] = np.inf\n",
    "    for i in range(k):\n",
    "        min_idx = np.argmin(norm_list)\n",
    "        norm_list[min_idx] = np.inf\n",
    "        nearest_idx[i] = min_idx\n",
    "\n",
    "        common_nr[i] = Counter(train_numbers[nearest_idx[:i+1]]).most_common(1)[0][0]\n",
    "\n",
    "    return common_nr\n",
    "\n",
    "def k_nearest_neighbours_gpu_LOOCV(wpimages_train, train_numbers, img, k, p):\n",
    "    \"\"\" \n",
    "    Applies the k-NN approach, while disregarding index from the train images (LOOCV)\n",
    "    by discarding the closest neighbor, i.e. itself\n",
    "    \"\"\"\n",
    "    return k_nearest_neighbours_gpu(wpimages_train, train_numbers, img, k, p, leave_out=1)\n",
    "\n",
    "def cross_validation_gpu(train_images, train_numbers, k, p):\n",
    "    \"\"\"\n",
    "    Computes the cross-validation score of the training dataset for each k in the range 1 to k_range\n",
    "    \"\"\"\n",
    "    wpimages_train = wp.from_numpy(train_images, dtype=float, device='cuda:0')\n",
    "    # Prediction rule for image at index while leaving index out of training\n",
    "    neighbour_LOOCV_func = lambda index: k_nearest_neighbours_gpu_LOOCV(wpimages_train, train_numbers, train_images[index], k, p)\n",
    "\n",
    "    train_common_nrs_LOOCV = np.array(list(map(neighbour_LOOCV_func, range(train_numbers.size)))).transpose()\n",
    "\n",
    "    LOOCV_scores = np.sum(not_eq(train_common_nrs_LOOCV, train_numbers), axis=1)/train_numbers.size\n",
    "\n",
    "    return LOOCV_scores"
   ]
  },
  {
   "cell_type": "code",
   "execution_count": 12,
   "metadata": {},
   "outputs": [],
   "source": [
    "numbers_train, images_train = get_images('data/MNIST_train.csv', 60000)\n",
    "numbers_test, images_test = get_images('data/MNIST_test.csv', 10000)"
   ]
  },
  {
   "cell_type": "code",
   "execution_count": 13,
   "metadata": {},
   "outputs": [],
   "source": [
    "numbers_train_small, images_train_small = get_images('data/MNIST_train_small.csv', 3000)\n",
    "numbers_test_small, images_test_small = get_images('data/MNIST_test_small.csv', 1000)"
   ]
  },
  {
   "attachments": {},
   "cell_type": "markdown",
   "metadata": {},
   "source": [
    "### Exercises"
   ]
  },
  {
   "attachments": {},
   "cell_type": "markdown",
   "metadata": {},
   "source": [
    "Ex. A"
   ]
  },
  {
   "cell_type": "code",
   "execution_count": 14,
   "metadata": {},
   "outputs": [],
   "source": [
    "k = 20\n",
    "p = 2\n",
    "\n",
    "wpimages_train_small = wp.from_numpy(images_train_small, dtype=float, device='cuda:0')\n",
    "\n",
    "def neighbour_func(img):\n",
    "    return k_nearest_neighbours_gpu(wpimages_train_small, numbers_train_small, img, k, p)"
   ]
  },
  {
   "cell_type": "code",
   "execution_count": 15,
   "metadata": {},
   "outputs": [],
   "source": [
    "test_common_nrs = np.array(list(map(neighbour_func, images_test_small))).transpose()\n",
    "train_common_nrs = np.array(list(map(neighbour_func, images_train_small))).transpose()"
   ]
  },
  {
   "cell_type": "code",
   "execution_count": 16,
   "metadata": {},
   "outputs": [],
   "source": [
    "test_small_risk = np.sum(not_eq(test_common_nrs, numbers_test_small), axis=1)/numbers_test_small.shape[0]\n",
    "train_small_risk = np.sum(not_eq(train_common_nrs, numbers_train_small), axis=1)/numbers_train_small.shape[0]"
   ]
  },
  {
   "cell_type": "code",
   "execution_count": 17,
   "metadata": {},
   "outputs": [
    {
     "data": {
      "image/png": "[encoded data removed]",
      "text/plain": [
       "<Figure size 800x400 with 1 Axes>"
      ]
     },
     "metadata": {},
     "output_type": "display_data"
    }
   ],
   "source": [
    "fig, ax = plt.subplots(figsize=(8, 4))\n",
    "ax.scatter(range(1,k+1), test_small_risk, label='Test data')\n",
    "ax.scatter(range(1,k+1), train_small_risk, label='Train data')\n",
    "ax.legend(loc=4)\n",
    "ax.set_xlabel(r\"$k$\")\n",
    "ax.set_ylabel(\"Empirical risk\")\n",
    "ax.xaxis.set_ticks(list(range(1,21)))\n",
    "\n",
    "plt.savefig(\"Figures/ex_a_risk.pdf\")\n",
    "plt.show()\n",
    "\n",
    "# Best k for this model is five!"
   ]
  },
  {
   "attachments": {},
   "cell_type": "markdown",
   "metadata": {},
   "source": [
    "Ex. B"
   ]
  },
  {
   "cell_type": "code",
   "execution_count": 18,
   "metadata": {},
   "outputs": [],
   "source": [
    "k = 20\n",
    "p = 2\n",
    "LOOCV_scores = cross_validation_gpu(images_train_small, numbers_train_small, k, p)"
   ]
  },
  {
   "cell_type": "code",
   "execution_count": 19,
   "metadata": {},
   "outputs": [
    {
     "name": "stdout",
     "output_type": "stream",
     "text": [
      "\\begin{table}[H] \n",
      "\\centering \n",
      "\\begin{tabular}{|l|l|l|l|l|l|l|l|l|l|l|} \\hline \n",
      "$k$ & 1 & 2 & 3 & 4 & 5 & 6 & 7 & 8 & 9 & 10 \\\\ \\hline\n",
      "LOOCV & 0.081 & 0.081 & 0.073 & 0.073 & 0.078 & 0.079 & 0.082 & 0.082 & 0.083 & 0.089 \\\\ \\hline\n",
      "$k$ & 11 & 12 & 13 & 14 & 15 & 16 & 17 & 18 & 19 & 20 \\\\ \\hline\n",
      "LOOCV & 0.088 & 0.089 & 0.092 & 0.093 & 0.094 & 0.095 & 0.096 & 0.096 & 0.098 & 0.098 \\\\ \\hline\n",
      "\\end{tabular}\n",
      "\\caption{Leave-One-Out Cross-Validation (LOOCV) score over the training dataset (minimized for k = 3, 4)}\n",
      "\\label{tab:LOOCV_small}\n",
      "\\end{table}\n"
     ]
    }
   ],
   "source": [
    "round_to_three = lambda x: \"{:0.3f}\".format(x)\n",
    "LOOCV_scores_rounded = list(map(round_to_three, LOOCV_scores))\n",
    "k_min = \", \".join(list(map(str, 1 + np.where(abs(LOOCV_scores - np.min(LOOCV_scores)) < 1e-10)[0])))\n",
    "caption = f\"Leave-One-Out Cross-Validation (LOOCV) score over the training dataset (minimized for k = {k_min})\"\n",
    "label = \"tab:LOOCV_small\"\n",
    "create_latex_table([[\"$k$\", *range(1, 11)], [\"LOOCV\", *LOOCV_scores_rounded[:10]], [\"$k$\", *range(11, 21)], [\"LOOCV\", *LOOCV_scores_rounded[10:20]]], caption = caption, label = label)"
   ]
  },
  {
   "cell_type": "code",
   "execution_count": 20,
   "metadata": {},
   "outputs": [
    {
     "data": {
      "image/png": "[encoded data removed]",
      "text/plain": [
       "<Figure size 800x400 with 1 Axes>"
      ]
     },
     "metadata": {},
     "output_type": "display_data"
    }
   ],
   "source": [
    "fig, ax = plt.subplots(figsize=(8, 4))\n",
    "ax.scatter(range(1,k+1), LOOCV_scores, label='LOOCV scores')\n",
    "ax.scatter(range(1,k+1), test_small_risk, label='Risk of test data')\n",
    "ax.legend(loc=4)\n",
    "ax.set_xlabel(r\"$k$\")\n",
    "ax.set_ylabel(\"Empirical risk/ LOOCV\")\n",
    "ax.xaxis.set_ticks(list(range(1,21)))\n",
    "\n",
    "plt.savefig(\"Figures/ex_b_risk_LOOCV.pdf\")\n",
    "plt.show()"
   ]
  },
  {
   "attachments": {},
   "cell_type": "markdown",
   "metadata": {},
   "source": [
    "Ex. C"
   ]
  },
  {
   "cell_type": "code",
   "execution_count": 21,
   "metadata": {},
   "outputs": [],
   "source": [
    "k_range = 20\n",
    "p_range = 15\n",
    "LOOCV_scores_minkowski_p = lambda p: cross_validation_gpu(images_train_small, numbers_train_small, k_range, p)\n",
    "\n",
    "LOOCV_scores_minkowski = np.array(list(map(LOOCV_scores_minkowski_p, range(1, p_range + 1))))"
   ]
  },
  {
   "cell_type": "code",
   "execution_count": 22,
   "metadata": {},
   "outputs": [
    {
     "name": "stdout",
     "output_type": "stream",
     "text": [
      "\\begin{table}[H] \n",
      "\\centering \n",
      "\\begin{tabular}{l|cccccccccc} \\hline \n",
      "\\backslashbox{$p$}{$k$} & 1 & 2 & 3 & 4 & 5 & 6 & 7 & 8 & 9 & 10 \\\\ \\hline \n",
      "1 & 0.090 & 0.090 & 0.090 & 0.083 & 0.091 & 0.090 & 0.097 & 0.091 & 0.097 & 0.097 \\\\\n",
      "2 & 0.081 & 0.081 & 0.073 & 0.073 & 0.078 & 0.079 & 0.082 & 0.082 & 0.083 & 0.089 \\\\\n",
      "3 & 0.075 & 0.075 & 0.066 & 0.069 & 0.073 & 0.077 & 0.078 & 0.078 & 0.080 & 0.084 \\\\\n",
      "4 & 0.073 & 0.073 & 0.065 & 0.067 & 0.069 & 0.074 & 0.077 & 0.075 & 0.076 & 0.077 \\\\\n",
      "5 & 0.073 & 0.073 & 0.061 & 0.068 & 0.069 & 0.069 & 0.074 & 0.074 & 0.077 & 0.075 \\\\\n",
      "6 & 0.071 & 0.071 & 0.061 & 0.066 & 0.068 & 0.066 & 0.072 & 0.071 & 0.076 & 0.072 \\\\\n",
      "7 & 0.071 & 0.071 & 0.058 & 0.064 & 0.066 & 0.066 & 0.071 & 0.070 & 0.074 & 0.072 \\\\\n",
      "8 & 0.069 & 0.069 & 0.058 & 0.063 & 0.064 & 0.063 & 0.070 & 0.069 & 0.071 & 0.069 \\\\\n",
      "9 & 0.069 & 0.069 & 0.058 & 0.062 & 0.064 & 0.064 & 0.071 & 0.068 & 0.069 & 0.069 \\\\\n",
      "10 & 0.070 & 0.070 & 0.059 & 0.062 & 0.066 & 0.064 & 0.070 & 0.068 & 0.069 & 0.071 \\\\\n",
      "11 & 0.072 & 0.072 & 0.059 & 0.061 & 0.066 & 0.064 & 0.070 & 0.068 & 0.071 & 0.071 \\\\\n",
      "12 & 0.071 & 0.071 & 0.059 & 0.062 & 0.065 & 0.065 & 0.071 & 0.068 & 0.071 & 0.070 \\\\\n",
      "13 & 0.070 & 0.070 & 0.061 & 0.062 & 0.065 & 0.065 & 0.071 & 0.068 & 0.072 & 0.071 \\\\\n",
      "14 & 0.071 & 0.071 & 0.061 & 0.063 & 0.065 & 0.064 & 0.070 & 0.069 & 0.070 & 0.071 \\\\\n",
      "15 & 0.070 & 0.070 & 0.062 & 0.063 & 0.065 & 0.063 & 0.069 & 0.068 & 0.070 & 0.071 \\\\\n",
      "\\end{tabular}\n",
      "\\end{table}\n"
     ]
    }
   ],
   "source": [
    "round_to_three = lambda x: \"{:0.3f}\".format(x)\n",
    "round_to_three_list = lambda x: list(map(round_to_three, x))\n",
    "LOOCV_scores_minkowski_rounded = list(map(round_to_three_list, LOOCV_scores_minkowski))\n",
    "create_matrix([x[:10] for x in LOOCV_scores_minkowski_rounded], xlab = \"$k$\", ylab = \"$p$\")"
   ]
  },
  {
   "cell_type": "code",
   "execution_count": 23,
   "metadata": {},
   "outputs": [
    {
     "name": "stdout",
     "output_type": "stream",
     "text": [
      "\\begin{table}[H] \n",
      "\\centering \n",
      "\\begin{tabular}{l|cccccccccc} \\hline \n",
      "\\backslashbox{$p$}{$k$} & 11 & 12 & 13 & 14 & 15 & 16 & 17 & 18 & 19 & 20 \\\\ \\hline \n",
      "1 & 0.099 & 0.101 & 0.103 & 0.102 & 0.108 & 0.107 & 0.110 & 0.110 & 0.111 & 0.113 \\\\\n",
      "2 & 0.088 & 0.089 & 0.092 & 0.093 & 0.094 & 0.095 & 0.096 & 0.096 & 0.098 & 0.098 \\\\\n",
      "3 & 0.085 & 0.085 & 0.086 & 0.085 & 0.091 & 0.090 & 0.093 & 0.091 & 0.096 & 0.095 \\\\\n",
      "4 & 0.078 & 0.082 & 0.083 & 0.081 & 0.088 & 0.086 & 0.088 & 0.088 & 0.092 & 0.092 \\\\\n",
      "5 & 0.076 & 0.076 & 0.080 & 0.079 & 0.082 & 0.082 & 0.088 & 0.087 & 0.088 & 0.091 \\\\\n",
      "6 & 0.073 & 0.073 & 0.077 & 0.077 & 0.083 & 0.081 & 0.083 & 0.085 & 0.085 & 0.087 \\\\\n",
      "7 & 0.074 & 0.072 & 0.076 & 0.078 & 0.081 & 0.081 & 0.083 & 0.082 & 0.084 & 0.087 \\\\\n",
      "8 & 0.071 & 0.071 & 0.074 & 0.076 & 0.079 & 0.081 & 0.082 & 0.082 & 0.086 & 0.087 \\\\\n",
      "9 & 0.074 & 0.071 & 0.074 & 0.076 & 0.077 & 0.080 & 0.081 & 0.082 & 0.086 & 0.086 \\\\\n",
      "10 & 0.075 & 0.072 & 0.074 & 0.076 & 0.078 & 0.080 & 0.078 & 0.082 & 0.084 & 0.085 \\\\\n",
      "11 & 0.073 & 0.072 & 0.073 & 0.076 & 0.079 & 0.079 & 0.078 & 0.083 & 0.082 & 0.085 \\\\\n",
      "12 & 0.072 & 0.071 & 0.073 & 0.075 & 0.078 & 0.078 & 0.079 & 0.082 & 0.083 & 0.086 \\\\\n",
      "13 & 0.073 & 0.071 & 0.073 & 0.074 & 0.076 & 0.077 & 0.078 & 0.081 & 0.082 & 0.085 \\\\\n",
      "14 & 0.072 & 0.070 & 0.071 & 0.075 & 0.075 & 0.078 & 0.079 & 0.082 & 0.082 & 0.086 \\\\\n",
      "15 & 0.073 & 0.070 & 0.072 & 0.076 & 0.076 & 0.078 & 0.080 & 0.083 & 0.084 & 0.085 \\\\\n",
      "\\end{tabular}\n",
      "\\end{table}\n"
     ]
    }
   ],
   "source": [
    "create_matrix([x[10:] for x in LOOCV_scores_minkowski_rounded], xlab = \"$k$\", ylab = \"$p$\", dx = 10)"
   ]
  },
  {
   "cell_type": "code",
   "execution_count": 24,
   "metadata": {},
   "outputs": [
    {
     "data": {
      "text/plain": [
       "(7, 2)"
      ]
     },
     "execution_count": 24,
     "metadata": {},
     "output_type": "execute_result"
    }
   ],
   "source": [
    "# Index of minimum p and k\n",
    "np.unravel_index(LOOCV_scores_minkowski.argmin(), LOOCV_scores_minkowski.shape)"
   ]
  },
  {
   "attachments": {},
   "cell_type": "markdown",
   "metadata": {},
   "source": [
    "Ex. E"
   ]
  },
  {
   "cell_type": "code",
   "execution_count": 25,
   "metadata": {},
   "outputs": [],
   "source": [
    "k = 20\n",
    "p = 8"
   ]
  },
  {
   "cell_type": "code",
   "execution_count": 26,
   "metadata": {},
   "outputs": [],
   "source": [
    "# 10 minutes on a NVIDIA RTX 3070\n",
    "# LOOCV_scores_large = cross_validation_gpu(images_train, numbers_train, k, p)"
   ]
  },
  {
   "cell_type": "code",
   "execution_count": 28,
   "metadata": {},
   "outputs": [
    {
     "data": {
      "image/png": "[encoded data removed]",
      "text/plain": [
       "<Figure size 800x400 with 1 Axes>"
      ]
     },
     "metadata": {},
     "output_type": "display_data"
    }
   ],
   "source": [
    "fig, ax = plt.subplots(figsize=(8, 4))\n",
    "ax.scatter(range(1,k+1), LOOCV_scores_large, label='LOOCV scores')\n",
    "ax.legend(loc=4)\n",
    "ax.set_xlabel(r\"$k$\")\n",
    "ax.set_ylabel(\"Empirical risk/ LOOCV\")\n",
    "ax.xaxis.set_ticks(list(range(1,21)))\n",
    "\n",
    "plt.savefig(\"Figures/ex_e_risk_LOOCV.pdf\")\n",
    "plt.show()"
   ]
  }
 ],
 "metadata": {
  "kernelspec": {
   "display_name": "Python 3",
   "language": "python",
   "name": "python3"
  },
  "language_info": {
   "codemirror_mode": {
    "name": "ipython",
    "version": 3
   },
   "file_extension": ".py",
   "mimetype": "text/x-python",
   "name": "python",
   "nbconvert_exporter": "python",
   "pygments_lexer": "ipython3",
   "version": "3.10.7"
  },
  "orig_nbformat": 4,
  "vscode": {
   "interpreter": {
    "hash": "5ea278406bcf30234be7263113fbeff489373d6c68d0bfc70f72e26a84500695"
   }
  }
 },
 "nbformat": 4,
 "nbformat_minor": 2
}
