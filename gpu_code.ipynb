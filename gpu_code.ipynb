{
 "cells": [
  {
   "cell_type": "code",
   "execution_count": 1,
   "metadata": {},
   "outputs": [
    {
     "name": "stdout",
     "output_type": "stream",
     "text": [
      "Warp 0.6.1 initialized:\n",
      "   CUDA Toolkit: 11.5, Driver: 11.7\n",
      "   Devices:\n",
      "     \"cpu\"    | Intel64 Family 6 Model 158 Stepping 10, GenuineIntel\n",
      "     \"cuda:0\" | Quadro P1000 (sm_61)\n",
      "   Kernel cache: C:\\Users\\20192037\\AppData\\Local\\NVIDIA Corporation\\warp\\Cache\\0.6.1\n"
     ]
    }
   ],
   "source": [
    "import warp as wp\n",
    "wp.init()\n",
    "import numpy as np"
   ]
  },
  {
   "attachments": {},
   "cell_type": "markdown",
   "metadata": {},
   "source": [
    "### Test code"
   ]
  },
  {
   "cell_type": "code",
   "execution_count": 87,
   "metadata": {},
   "outputs": [],
   "source": [
    "train_img = np.array([  0,   0,   0,   0,   0,   0,   0,   0,   0,   0,   0,   0,   0,\n",
    "          0,   0,   0,   0,   0,   0,   0,   0,   0,   0,   0,   0,   0,\n",
    "          0,   0,   0,   0,   0,   0,   0,   0,   0,   0,   0,   0,   0,\n",
    "          0,   0,   0,   0,   0,   0,   0,   0,   0,   0,   0,   0,   0,\n",
    "          3,  18,  18,  18, 126, 136, 175,  26, 166, 255, 247, 127,   0,\n",
    "          0,   0,   0,   0,   0,   0,   0,   0,   0,   0,   0,  30,  36,\n",
    "         94, 154, 170, 253, 253, 253, 253, 253, 225, 172, 253, 242, 195,\n",
    "         64,   0,   0,   0,   0,   0,   0,   0,   0], dtype=np.int16)\n",
    "test_img = np.array([ 93,   0,   0,   0,   0,   0,   0,   0,   0,   0,   0,   0,   0,\n",
    "          0,   0,   0,   0,   0,   0,   0,   0, 169, 253, 253, 253, 253,\n",
    "        253, 253, 218,  30,   0,   0,   0,   0,   0,   0,   0,   0,   0,\n",
    "          0,   0,   0,   0,   0,   0,   0,   0,   0, 169, 253, 253, 253,\n",
    "        213, 142, 176, 253, 253, 122,   0,   0,   0,   0,   0,   0,   0,\n",
    "          0,   0,   0,   0,   0,   0,   0,   0,   0,   0,  52, 250, 253,\n",
    "        210,  32,  12,   0,   6, 206, 253, 140,   0,   0,   0,   0,   0,\n",
    "          0,   0,   0,   0,   0,   0,   0,   0,   0], dtype=np.int16)"
   ]
  },
  {
   "cell_type": "code",
   "execution_count": 88,
   "metadata": {},
   "outputs": [],
   "source": [
    "@wp.kernel\n",
    "def sq_add(train_img: wp.array(dtype=float),\n",
    "           test_img: wp.array(dtype=float),\n",
    "           sq_sum: wp.array(dtype=float)):\n",
    "\n",
    "   # thread index\n",
    "   tid = wp.tid()\n",
    "    \n",
    "   sq_abs = wp.pow(train_img[tid] - test_img[tid], 2.0)\n",
    "   \n",
    "   wp.atomic_add(sq_sum, 0, sq_abs)"
   ]
  },
  {
   "cell_type": "code",
   "execution_count": 95,
   "metadata": {},
   "outputs": [
    {
     "name": "stdout",
     "output_type": "stream",
     "text": [
      "1583682\n",
      "[1583682.]\n"
     ]
    }
   ],
   "source": [
    "print(sum(i**2 for i in train_img-test_img))\n",
    "\n",
    "wptrain = wp.from_numpy(train_img, dtype=float)\n",
    "wptest = wp.from_numpy(test_img, dtype=float)\n",
    "wpresults = wp.array([0], dtype=float)\n",
    "\n",
    "wp.launch(kernel=sq_add,\n",
    "          dim=len(train_img),\n",
    "          inputs=[wptrain, wptest, wpresults])\n",
    "\n",
    "print(wpresults.numpy())"
   ]
  },
  {
   "cell_type": "code",
   "execution_count": 2,
   "metadata": {},
   "outputs": [],
   "source": [
    "@wp.kernel\n",
    "def img_norm(train_imgs: wp.array(dtype=float, ndim=2),\n",
    "           test_img: wp.array(dtype=float),\n",
    "           n: int,\n",
    "           norms: wp.array(dtype=float)):\n",
    "\n",
    "    # thread index\n",
    "    tid = wp.tid()\n",
    "\n",
    "    train_img = train_imgs[tid]\n",
    "\n",
    "    s = float(0)\n",
    "    for i in range(n):\n",
    "        diff = train_img[i] - test_img[i]\n",
    "        s += wp.pow(diff, 2.0)\n",
    "    \n",
    "    norms[tid] = wp.sqrt(s)"
   ]
  },
  {
   "cell_type": "code",
   "execution_count": 99,
   "metadata": {},
   "outputs": [
    {
     "name": "stdout",
     "output_type": "stream",
     "text": [
      "1258.4442776698538\n",
      "[1258.4443 1258.4443 1258.4443 1258.4443 1258.4443 1258.4443 1258.4443\n",
      " 1258.4443 1258.4443 1258.4443]\n"
     ]
    }
   ],
   "source": [
    "print(np.linalg.norm(train_img-test_img))\n",
    "\n",
    "train_imgs = np.tile(train_img, (10,1))\n",
    "wptrain = wp.from_numpy(train_imgs, dtype=float)\n",
    "wptest = wp.from_numpy(test_img, dtype=float)\n",
    "wpresults = wp.empty(shape=len(train_imgs), dtype=float)\n",
    "\n",
    "wp.launch(kernel=img_norm,\n",
    "          dim=len(train_imgs),\n",
    "          inputs=[wptrain, wptest, len(test_img), wpresults])\n",
    "\n",
    "print(wpresults.numpy())"
   ]
  },
  {
   "attachments": {},
   "cell_type": "markdown",
   "metadata": {},
   "source": [
    "### Run code"
   ]
  },
  {
   "cell_type": "code",
   "execution_count": 3,
   "metadata": {},
   "outputs": [],
   "source": [
    "import matplotlib.pyplot as plt\n",
    "plt.rcParams.update({'font.size': 12})\n",
    "from collections import Counter\n",
    "from time import perf_counter"
   ]
  },
  {
   "cell_type": "code",
   "execution_count": 26,
   "metadata": {},
   "outputs": [],
   "source": [
    "def get_images(name, size):\n",
    "    images = np.empty((size, 784), dtype=np.int16)\n",
    "    numbers = np.empty(size, dtype=np.int32)\n",
    "\n",
    "    with open(name, 'rt') as file:\n",
    "        for i in range(size):\n",
    "            row = file.readline().split(',')\n",
    "\n",
    "            numbers[i] = row[0]\n",
    "            images[i] = row[1:]\n",
    "\n",
    "    return numbers, images\n",
    "\n",
    "def mink_dist(x, y, p=2):\n",
    "    return np.linalg.norm(x - y, ord=p, axis=-1)\n",
    "\n",
    "not_eq = lambda x,y: x != y\n",
    "\n",
    "def k_nearest_neighbours(train_images, train_numbers, test_image, k, dist_func):\n",
    "    norm_list = dist_func(train_images, test_image)\n",
    "    nearest_idx = np.empty(k, dtype=np.int32)\n",
    "    common_nr = np.empty(k, dtype=np.int8)\n",
    "    for i in range(k):\n",
    "        min_idx = np.argmin(norm_list)\n",
    "        norm_list[min_idx] = np.inf\n",
    "        nearest_idx[i] = min_idx\n",
    "\n",
    "        common_nr[i] = Counter(train_numbers[nearest_idx[:i+1]]).most_common(1)[0][0]\n",
    "\n",
    "    return common_nr\n",
    "\n",
    "def k_nearest_neighbours_gpu(wpimages_train, train_numbers, wpimg, k):\n",
    "    wpimages_train_len = wpimages_train.shape[0]\n",
    "    wpresults = wp.empty(shape=wpimages_train_len, dtype=float, device='cuda:0')\n",
    "\n",
    "    wp.launch(kernel=img_norm,\n",
    "          dim=wpimages_train_len,\n",
    "          inputs=[wpimages_train, wpimg, wpimg.size, wpresults],\n",
    "          device='cuda:0')\n",
    "\n",
    "    norm_list = wpresults.numpy()\n",
    "\n",
    "    nearest_idx = np.empty(k, dtype=np.int32)\n",
    "    common_nr = np.empty(k, dtype=np.int8)\n",
    "    for i in range(k):\n",
    "        min_idx = np.argmin(norm_list)\n",
    "        norm_list[min_idx] = np.inf\n",
    "        nearest_idx[i] = min_idx\n",
    "\n",
    "        common_nr[i] = Counter(train_numbers[nearest_idx[:i+1]]).most_common(1)[0][0]\n",
    "\n",
    "    return common_nr\n",
    "\n",
    "def k_nearest_neighbours_LOOCV(train_images, train_numbers, test_image, k, dist_func, index):\n",
    "    \"\"\" \n",
    "    Applies the k-NN approach, while disregarding index from the train images (LOOCV)\n",
    "    \"\"\"\n",
    "    assert 0 <= index and index < train_images.size, \"Index out of range\"\n",
    "    \n",
    "    return k_nearest_neighbours(np.delete(train_images, index, axis = 0), np.delete(train_numbers, index), test_image, k, dist_func)\n",
    "\n",
    "def cross_validation(train_images, train_numbers, k_range, dist_func):\n",
    "    \"\"\"\n",
    "    Computes the cross-validation score of the training dataset for each k in the range 1 to k_range\n",
    "    \"\"\"\n",
    "\n",
    "    # Prediction rule for image at index while leaving index out of training\n",
    "    neighbour_LOOCV_func = lambda index: k_nearest_neighbours_LOOCV(train_images, train_numbers, train_images[index], k_range, dist_func, index)\n",
    "\n",
    "    train_common_nrs_LOOCV = np.array(list(map(neighbour_LOOCV_func, range(train_numbers.size)))).transpose()\n",
    "\n",
    "    LOOCV_scores = np.sum(not_eq(train_common_nrs_LOOCV, train_numbers), axis=1)/train_numbers.size\n",
    "\n",
    "    return LOOCV_scores"
   ]
  },
  {
   "cell_type": "code",
   "execution_count": 5,
   "metadata": {},
   "outputs": [],
   "source": [
    "numbers_train, images_train = get_images('data/MNIST_train.csv', 60000)\n",
    "numbers_test, images_test = get_images('data/MNIST_test.csv', 10000)"
   ]
  },
  {
   "cell_type": "code",
   "execution_count": 6,
   "metadata": {},
   "outputs": [
    {
     "name": "stdout",
     "output_type": "stream",
     "text": [
      "0.6284270999999961\n"
     ]
    }
   ],
   "source": []
  },
  {
   "cell_type": "code",
   "execution_count": 7,
   "metadata": {},
   "outputs": [],
   "source": [
    "img = images_test[0]\n",
    "wpimages_train = wp.from_numpy(images_train, dtype=float, device='cuda:0')\n",
    "wpimg = wp.from_numpy(img, dtype=float, device='cuda:0')\n",
    "wpresults = wp.empty(shape=len(images_train), dtype=float, device='cuda:0')"
   ]
  },
  {
   "cell_type": "code",
   "execution_count": 33,
   "metadata": {},
   "outputs": [
    {
     "name": "stdout",
     "output_type": "stream",
     "text": [
      "463 ms ± 12.2 ms per loop (mean ± std. dev. of 7 runs, 1 loop each)\n"
     ]
    }
   ],
   "source": [
    "%timeit k_nearest_neighbours(images_train, numbers_train, img, 20, lambda x,y: mink_dist(x,y,2))"
   ]
  },
  {
   "cell_type": "code",
   "execution_count": 31,
   "metadata": {},
   "outputs": [
    {
     "name": "stdout",
     "output_type": "stream",
     "text": [
      "45.3 ms ± 220 µs per loop (mean ± std. dev. of 7 runs, 10 loops each)\n"
     ]
    }
   ],
   "source": [
    "%timeit k_nearest_neighbours_gpu(wpimages_train, numbers_train, wpimg, 20)"
   ]
  },
  {
   "cell_type": "code",
   "execution_count": null,
   "metadata": {},
   "outputs": [],
   "source": []
  }
 ],
 "metadata": {
  "kernelspec": {
   "display_name": "base",
   "language": "python",
   "name": "python3"
  },
  "language_info": {
   "codemirror_mode": {
    "name": "ipython",
    "version": 3
   },
   "file_extension": ".py",
   "mimetype": "text/x-python",
   "name": "python",
   "nbconvert_exporter": "python",
   "pygments_lexer": "ipython3",
   "version": "3.8.5"
  },
  "orig_nbformat": 4
 },
 "nbformat": 4,
 "nbformat_minor": 2
}
